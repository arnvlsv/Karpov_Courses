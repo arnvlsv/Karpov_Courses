{
 "cells": [
  {
   "cell_type": "code",
   "execution_count": 1,
   "metadata": {},
   "outputs": [],
   "source": [
    "import pandas as pd\n",
    "import numpy as np\n",
    "import scipy.stats as stats\n",
    "from scipy.stats import chi2_contingency\n",
    "from scipy import stats\n",
    "import scipy\n",
    "from ast import literal_eval\n",
    "from scipy.stats import mannwhitneyu\n",
    "import numpy as np \n",
    "import matplotlib.pyplot as plt \n",
    "import pandahouse as ph\n",
    "import requests\n",
    "from urllib.parse import urlencode\n",
    "from scipy.stats import bootstrap"
   ]
  },
  {
   "cell_type": "markdown",
   "metadata": {},
   "source": [
    "# 1. A/B–тестирование"
   ]
  },
  {
   "cell_type": "markdown",
   "metadata": {},
   "source": [
    "Одной из основных задач аналитика в нашей команде является корректное проведение экспериментов. Для этого мы применяем метод A/B–тестирования. В ходе тестирования одной гипотезы целевой группе была предложена новая механика оплаты услуг на сайте, у контрольной группы оставалась базовая механика. В качестве задания Вам необходимо проанализировать итоги эксперимента и сделать вывод, стоит ли запускать новую механику оплаты на всех пользователей."
   ]
  },
  {
   "cell_type": "markdown",
   "metadata": {},
   "source": [
    "Загрузим файл с информацией о пользователях, которые зашли на платформу в дни проведения эксперимента"
   ]
  },
  {
   "cell_type": "code",
   "execution_count": 2,
   "metadata": {},
   "outputs": [],
   "source": [
    "path_to_active_studs = 'https://disk.yandex.ru/d/Tbs44Bm6H_FwFQ'"
   ]
  },
  {
   "cell_type": "code",
   "execution_count": 3,
   "metadata": {},
   "outputs": [],
   "source": [
    "base_url = 'https://cloud-api.yandex.net/v1/disk/public/resources/download?'\n",
    "final_url = base_url + urlencode(dict(public_key=path_to_active_studs))\n",
    "response = requests.get(final_url)\n",
    "download_url = response.json()['href']\n",
    "active_studs = pd.read_csv(download_url, ';')"
   ]
  },
  {
   "cell_type": "markdown",
   "metadata": {},
   "source": [
    "Загрузим файл с информацией об оплатах пользователей в дни проведения эксперимента"
   ]
  },
  {
   "cell_type": "code",
   "execution_count": 4,
   "metadata": {},
   "outputs": [],
   "source": [
    "path_to_checks = 'https://disk.yandex.ru/d/pH1q-VqcxXjsVA'"
   ]
  },
  {
   "cell_type": "code",
   "execution_count": 5,
   "metadata": {},
   "outputs": [],
   "source": [
    "base_url = 'https://cloud-api.yandex.net/v1/disk/public/resources/download?'\n",
    "final_url = base_url + urlencode(dict(public_key=path_to_checks))\n",
    "response = requests.get(final_url)\n",
    "download_url = response.json()['href']\n",
    "checks = pd.read_csv(download_url, ';')"
   ]
  },
  {
   "cell_type": "markdown",
   "metadata": {},
   "source": [
    "Загрузим дополнительный файл с пользователями, который вам прислали спустя 2 дня после передачи данных"
   ]
  },
  {
   "cell_type": "code",
   "execution_count": 6,
   "metadata": {},
   "outputs": [],
   "source": [
    "path_to_group_add = 'https://disk.yandex.ru/d/5Kxrz02m3IBUwQ'"
   ]
  },
  {
   "cell_type": "code",
   "execution_count": 7,
   "metadata": {},
   "outputs": [],
   "source": [
    "base_url = 'https://cloud-api.yandex.net/v1/disk/public/resources/download?'\n",
    "final_url = base_url + urlencode(dict(public_key=path_to_group_add))\n",
    "response = requests.get(final_url)\n",
    "download_url = response.json()['href']\n",
    "group_add = pd.read_csv(download_url)"
   ]
  },
  {
   "cell_type": "markdown",
   "metadata": {},
   "source": [
    "Загрузим файл с информацией о принадлежности пользователя к контрольной или экспериментальной группе (А – контроль, B – целевая группа) "
   ]
  },
  {
   "cell_type": "code",
   "execution_count": 8,
   "metadata": {},
   "outputs": [],
   "source": [
    "path_to_groups = 'https://disk.yandex.ru/d/UhyYx41rTt3clQ'"
   ]
  },
  {
   "cell_type": "code",
   "execution_count": 9,
   "metadata": {},
   "outputs": [],
   "source": [
    "base_url = 'https://cloud-api.yandex.net/v1/disk/public/resources/download?'\n",
    "final_url = base_url + urlencode(dict(public_key=path_to_groups))\n",
    "response = requests.get(final_url)\n",
    "download_url = response.json()['href']\n",
    "groups = pd.read_csv(download_url, sep=';')"
   ]
  },
  {
   "cell_type": "markdown",
   "metadata": {},
   "source": [
    "Сделаем проверку на пропуски в данных — как мы видим, их нет"
   ]
  },
  {
   "cell_type": "code",
   "execution_count": 10,
   "metadata": {},
   "outputs": [
    {
     "data": {
      "text/plain": [
       "student_id    0\n",
       "dtype: int64"
      ]
     },
     "execution_count": 10,
     "metadata": {},
     "output_type": "execute_result"
    }
   ],
   "source": [
    "active_studs.isna().sum()"
   ]
  },
  {
   "cell_type": "code",
   "execution_count": 11,
   "metadata": {},
   "outputs": [
    {
     "data": {
      "text/plain": [
       "student_id    0\n",
       "rev           0\n",
       "dtype: int64"
      ]
     },
     "execution_count": 11,
     "metadata": {},
     "output_type": "execute_result"
    }
   ],
   "source": [
    "checks.isna().sum()"
   ]
  },
  {
   "cell_type": "code",
   "execution_count": 12,
   "metadata": {},
   "outputs": [
    {
     "data": {
      "text/plain": [
       "id     0\n",
       "grp    0\n",
       "dtype: int64"
      ]
     },
     "execution_count": 12,
     "metadata": {},
     "output_type": "execute_result"
    }
   ],
   "source": [
    "group_add.isna().sum()"
   ]
  },
  {
   "cell_type": "code",
   "execution_count": 13,
   "metadata": {
    "scrolled": true
   },
   "outputs": [
    {
     "data": {
      "text/plain": [
       "id     0\n",
       "grp    0\n",
       "dtype: int64"
      ]
     },
     "execution_count": 13,
     "metadata": {},
     "output_type": "execute_result"
    }
   ],
   "source": [
    "groups.isna().sum()"
   ]
  },
  {
   "cell_type": "markdown",
   "metadata": {},
   "source": [
    "Сделаем проверку на дубликаты — их нет"
   ]
  },
  {
   "cell_type": "code",
   "execution_count": 14,
   "metadata": {},
   "outputs": [
    {
     "data": {
      "text/plain": [
       "False    8341\n",
       "dtype: int64"
      ]
     },
     "execution_count": 14,
     "metadata": {},
     "output_type": "execute_result"
    }
   ],
   "source": [
    "active_studs.duplicated().value_counts()"
   ]
  },
  {
   "cell_type": "code",
   "execution_count": 15,
   "metadata": {},
   "outputs": [
    {
     "data": {
      "text/plain": [
       "False    541\n",
       "dtype: int64"
      ]
     },
     "execution_count": 15,
     "metadata": {},
     "output_type": "execute_result"
    }
   ],
   "source": [
    "checks.duplicated().value_counts()"
   ]
  },
  {
   "cell_type": "code",
   "execution_count": 16,
   "metadata": {},
   "outputs": [
    {
     "data": {
      "text/plain": [
       "False    74484\n",
       "dtype: int64"
      ]
     },
     "execution_count": 16,
     "metadata": {},
     "output_type": "execute_result"
    }
   ],
   "source": [
    "groups.duplicated().value_counts()"
   ]
  },
  {
   "cell_type": "code",
   "execution_count": 17,
   "metadata": {},
   "outputs": [
    {
     "data": {
      "text/plain": [
       "False    92\n",
       "dtype: int64"
      ]
     },
     "execution_count": 17,
     "metadata": {},
     "output_type": "execute_result"
    }
   ],
   "source": [
    "group_add.duplicated().value_counts()"
   ]
  },
  {
   "cell_type": "markdown",
   "metadata": {},
   "source": [
    "Добавим в таблицу groups значения из таблицы group_add, которые нам дослали через 2 дня после передачи данных. Будем считать, что эти пользователи были включены в эксперимент в одно время с остальными. Но в реальности я бы уточнила это.\n",
    "\n",
    "Переименуем колонку id в student_id, чтобы затем сделать join"
   ]
  },
  {
   "cell_type": "code",
   "execution_count": 18,
   "metadata": {},
   "outputs": [],
   "source": [
    "groups_all = pd.concat([groups, group_add], ignore_index=True).rename(columns={'id': 'student_id'})"
   ]
  },
  {
   "cell_type": "markdown",
   "metadata": {},
   "source": [
    "Оставим только тех пользователей, которые зашли на платформу в дни проведения эксперимента"
   ]
  },
  {
   "cell_type": "code",
   "execution_count": 19,
   "metadata": {},
   "outputs": [],
   "source": [
    "active_groups = groups_all.merge(active_studs, how = 'inner', on = 'student_id')"
   ]
  },
  {
   "cell_type": "markdown",
   "metadata": {},
   "source": [
    "Посмотрим сколько наблюдений в каждой из групп"
   ]
  },
  {
   "cell_type": "code",
   "execution_count": 20,
   "metadata": {},
   "outputs": [
    {
     "data": {
      "text/plain": [
       "grp\n",
       "B    6803\n",
       "A    1538\n",
       "dtype: int64"
      ]
     },
     "execution_count": 20,
     "metadata": {},
     "output_type": "execute_result"
    }
   ],
   "source": [
    "active_groups.value_counts('grp')"
   ]
  },
  {
   "cell_type": "markdown",
   "metadata": {},
   "source": [
    "Добавим в таблицу информацию об оплатах пользователей в дни проведения эксперимента"
   ]
  },
  {
   "cell_type": "code",
   "execution_count": 21,
   "metadata": {},
   "outputs": [],
   "source": [
    "df = active_groups.merge(checks, on = 'student_id', how = 'left')"
   ]
  },
  {
   "cell_type": "markdown",
   "metadata": {},
   "source": [
    "Так как в ходе эксперимента мы меняли механику оплаты, нам интересно как это повлияло на количество потраченных покупателями денег, а также в целом на количество покупок.\n",
    "\n",
    "Выберем метрики:\n",
    "\n",
    "1. средний чек (средняя стоимость одной покупки)\n",
    "\n",
    "2. конверсия в покупку \n",
    "\n",
    "\n",
    "\n",
    "Обе метрики соответствуют критериям хорошей метрики:\n",
    "\n",
    "Доступная для понимания — вся команда понимает, что значит эта метрика, так как она незамысловата\n",
    "\n",
    "\n",
    "Чувствительная — метрика сразу отразит какие-то проблемы в одном или нескольких направлениях\n",
    "\n",
    "\n",
    "Actionable — метрика несет смысл, и ее динамика или сравнение с другими метриками нам о чём-то говорит и меняет наше поведение\n",
    "\n",
    "\n",
    "Быстрая — нам не нужно ждать конца месяца, чтобы посчитать эту метрику\n",
    "\n",
    "\n",
    "Релевантная — относится к нашим целям и тому, что мы хотим понять или узнать"
   ]
  },
  {
   "cell_type": "markdown",
   "metadata": {},
   "source": [
    "Сначала посмотрим как новый алгоритм повлиял на средний чек"
   ]
  },
  {
   "cell_type": "markdown",
   "metadata": {},
   "source": [
    "Посчитаем количество потраченных денег каждым покупателем в контрольной и экспериментальной группе и сравним их. Предварительно уберем пользователей, которые не соверщали покупок."
   ]
  },
  {
   "cell_type": "code",
   "execution_count": 22,
   "metadata": {},
   "outputs": [],
   "source": [
    "df_control = df.dropna().query(\"grp == 'A'\").groupby('student_id').agg({'rev': 'sum'})"
   ]
  },
  {
   "cell_type": "code",
   "execution_count": 23,
   "metadata": {},
   "outputs": [],
   "source": [
    "df_test = df.dropna().query(\"grp == 'B'\").groupby('student_id').agg({'rev': 'sum'})"
   ]
  },
  {
   "cell_type": "markdown",
   "metadata": {},
   "source": [
    "Для начала просто посмотрим на средние чеки в контрольной и экспериментальной группах"
   ]
  },
  {
   "cell_type": "code",
   "execution_count": 24,
   "metadata": {
    "scrolled": true
   },
   "outputs": [
    {
     "data": {
      "text/plain": [
       "933.5897435897435"
      ]
     },
     "execution_count": 24,
     "metadata": {},
     "output_type": "execute_result"
    }
   ],
   "source": [
    "df_control.rev.mean()"
   ]
  },
  {
   "cell_type": "code",
   "execution_count": 25,
   "metadata": {},
   "outputs": [
    {
     "data": {
      "text/plain": [
       "1257.8789920382164"
      ]
     },
     "execution_count": 25,
     "metadata": {},
     "output_type": "execute_result"
    }
   ],
   "source": [
    "df_test.rev.mean()"
   ]
  },
  {
   "cell_type": "markdown",
   "metadata": {},
   "source": [
    "Посмотрим на распределения оплат. Чтобы понять, сможем ли мы использовать t-тест, сделаем тесты на нормальность (normaltest) и на гомогенность дисперсий (levene)"
   ]
  },
  {
   "cell_type": "code",
   "execution_count": 26,
   "metadata": {},
   "outputs": [
    {
     "data": {
      "text/plain": [
       "array([[<matplotlib.axes._subplots.AxesSubplot object at 0x7f4594aafe48>]],\n",
       "      dtype=object)"
      ]
     },
     "execution_count": 26,
     "metadata": {},
     "output_type": "execute_result"
    },
    {
     "data": {
      "image/png": "[encoded data removed]",
      "text/plain": [
       "<Figure size 432x288 with 1 Axes>"
      ]
     },
     "metadata": {
      "needs_background": "light"
     },
     "output_type": "display_data"
    }
   ],
   "source": [
    "df_control.hist('rev')"
   ]
  },
  {
   "cell_type": "code",
   "execution_count": 27,
   "metadata": {},
   "outputs": [
    {
     "data": {
      "text/plain": [
       "NormaltestResult(statistic=30.378419638487475, pvalue=2.5316868804220266e-07)"
      ]
     },
     "execution_count": 27,
     "metadata": {},
     "output_type": "execute_result"
    }
   ],
   "source": [
    "scipy.stats.normaltest(df_control.rev)"
   ]
  },
  {
   "cell_type": "code",
   "execution_count": 28,
   "metadata": {},
   "outputs": [
    {
     "data": {
      "text/plain": [
       "array([[<matplotlib.axes._subplots.AxesSubplot object at 0x7f45949ed470>]],\n",
       "      dtype=object)"
      ]
     },
     "execution_count": 28,
     "metadata": {},
     "output_type": "execute_result"
    },
    {
     "data": {
      "image/png": "[encoded data removed]",
      "text/plain": [
       "<Figure size 432x288 with 1 Axes>"
      ]
     },
     "metadata": {
      "needs_background": "light"
     },
     "output_type": "display_data"
    }
   ],
   "source": [
    "df_test.hist('rev')"
   ]
  },
  {
   "cell_type": "code",
   "execution_count": 29,
   "metadata": {},
   "outputs": [
    {
     "data": {
      "text/plain": [
       "NormaltestResult(statistic=6.795662714490353, pvalue=0.033445723194625424)"
      ]
     },
     "execution_count": 29,
     "metadata": {},
     "output_type": "execute_result"
    }
   ],
   "source": [
    "scipy.stats.normaltest(df_test.rev)"
   ]
  },
  {
   "cell_type": "code",
   "execution_count": 30,
   "metadata": {},
   "outputs": [
    {
     "data": {
      "text/plain": [
       "LeveneResult(statistic=0.35109219559848354, pvalue=0.5538389015879754)"
      ]
     },
     "execution_count": 30,
     "metadata": {},
     "output_type": "execute_result"
    }
   ],
   "source": [
    "stats.levene(df_control.rev, df_test.rev, center='mean')"
   ]
  },
  {
   "cell_type": "markdown",
   "metadata": {},
   "source": [
    "Вывод: в тесте на нормальность p-value < 0.05, а значит мы отклоняем нулевую гипотезу о том, что распределения нормальные. В тесте на гомогенность дисперсий p-value > 0.05, а значит мы не можем отклонить нулевую гипотезу о том, что дисперсии гомогенны."
   ]
  },
  {
   "cell_type": "markdown",
   "metadata": {},
   "source": [
    "Так как распеределения не нормальны, попробуем прологарифмировать значения и посмотрим на распределения"
   ]
  },
  {
   "cell_type": "code",
   "execution_count": 31,
   "metadata": {},
   "outputs": [],
   "source": [
    "df_control['rev_log'] = np.log(df_control['rev'])"
   ]
  },
  {
   "cell_type": "code",
   "execution_count": 32,
   "metadata": {},
   "outputs": [],
   "source": [
    "df_test['rev_log'] = np.log(df_test['rev'])"
   ]
  },
  {
   "cell_type": "code",
   "execution_count": 33,
   "metadata": {
    "scrolled": true
   },
   "outputs": [
    {
     "data": {
      "text/plain": [
       "array([[<matplotlib.axes._subplots.AxesSubplot object at 0x7f4594714128>]],\n",
       "      dtype=object)"
      ]
     },
     "execution_count": 33,
     "metadata": {},
     "output_type": "execute_result"
    },
    {
     "data": {
      "image/png": "[encoded data removed]",
      "text/plain": [
       "<Figure size 432x288 with 1 Axes>"
      ]
     },
     "metadata": {
      "needs_background": "light"
     },
     "output_type": "display_data"
    }
   ],
   "source": [
    "df_control.hist('rev_log')"
   ]
  },
  {
   "cell_type": "code",
   "execution_count": 34,
   "metadata": {},
   "outputs": [
    {
     "data": {
      "text/plain": [
       "NormaltestResult(statistic=7.9915399191892345, pvalue=0.018393278875655582)"
      ]
     },
     "execution_count": 34,
     "metadata": {},
     "output_type": "execute_result"
    }
   ],
   "source": [
    "scipy.stats.normaltest(df_control.rev_log)"
   ]
  },
  {
   "cell_type": "code",
   "execution_count": 35,
   "metadata": {},
   "outputs": [
    {
     "data": {
      "text/plain": [
       "array([[<matplotlib.axes._subplots.AxesSubplot object at 0x7f459469f208>]],\n",
       "      dtype=object)"
      ]
     },
     "execution_count": 35,
     "metadata": {},
     "output_type": "execute_result"
    },
    {
     "data": {
      "image/png": "[encoded data removed]",
      "text/plain": [
       "<Figure size 432x288 with 1 Axes>"
      ]
     },
     "metadata": {
      "needs_background": "light"
     },
     "output_type": "display_data"
    }
   ],
   "source": [
    "df_test.hist('rev_log')"
   ]
  },
  {
   "cell_type": "code",
   "execution_count": 36,
   "metadata": {},
   "outputs": [
    {
     "data": {
      "text/plain": [
       "NormaltestResult(statistic=85.32513110701674, pvalue=2.9640341038161647e-19)"
      ]
     },
     "execution_count": 36,
     "metadata": {},
     "output_type": "execute_result"
    }
   ],
   "source": [
    "scipy.stats.normaltest(df_test.rev_log)"
   ]
  },
  {
   "cell_type": "code",
   "execution_count": 37,
   "metadata": {},
   "outputs": [
    {
     "data": {
      "text/plain": [
       "314"
      ]
     },
     "execution_count": 37,
     "metadata": {},
     "output_type": "execute_result"
    }
   ],
   "source": [
    "len(df_test) "
   ]
  },
  {
   "cell_type": "code",
   "execution_count": 38,
   "metadata": {},
   "outputs": [
    {
     "data": {
      "text/plain": [
       "78"
      ]
     },
     "execution_count": 38,
     "metadata": {},
     "output_type": "execute_result"
    }
   ],
   "source": [
    "len(df_control)"
   ]
  },
  {
   "cell_type": "markdown",
   "metadata": {},
   "source": [
    "Даже после логарифмирования распределения не прошли проверку на нормальность. А также если учесть, что в одной из групп меньше 100 наблюдений, то принимаем решение не использовать t-критерий Стьюдента. Используем метод бутстрапа (bootstrap), позволяющий оценить доверительный интервал для среднего чека в экспериментальной и контрольной группах."
   ]
  },
  {
   "cell_type": "code",
   "execution_count": 39,
   "metadata": {},
   "outputs": [],
   "source": [
    "df_control_bootstrap = df_control.rev.to_frame()"
   ]
  },
  {
   "cell_type": "code",
   "execution_count": 40,
   "metadata": {},
   "outputs": [
    {
     "data": {
      "text/plain": [
       "BootstrapResult(confidence_interval=ConfidenceInterval(low=array([754.65957399]), high=array([1170.65765509])), standard_error=array([104.11121143]))"
      ]
     },
     "execution_count": 40,
     "metadata": {},
     "output_type": "execute_result"
    }
   ],
   "source": [
    "bootstrap((df_control_bootstrap, ), np.mean)"
   ]
  },
  {
   "cell_type": "code",
   "execution_count": 41,
   "metadata": {},
   "outputs": [],
   "source": [
    "df_test_bootstrap = df_test.rev.to_frame()"
   ]
  },
  {
   "cell_type": "code",
   "execution_count": 42,
   "metadata": {},
   "outputs": [
    {
     "data": {
      "text/plain": [
       "BootstrapResult(confidence_interval=ConfidenceInterval(low=array([1171.35045157]), high=array([1346.30553557])), standard_error=array([44.74900044]))"
      ]
     },
     "execution_count": 42,
     "metadata": {},
     "output_type": "execute_result"
    }
   ],
   "source": [
    "bootstrap((df_test_bootstrap, ), np.mean)"
   ]
  },
  {
   "cell_type": "markdown",
   "metadata": {},
   "source": [
    "Вывод: метод бутстрапа позволяет нам оценить доверительные интервалы для стреднего чека в контрольной и экспериментальной группах. Для экспериментальной группы доверительный интервал 1171 - 1346; для контрольной 758 - 1161. Мы видим, что доверительные интервалы не пересекаются, а значит мы можем сделать вывод о том, что средний чек в экспериментальной группе выше, чем в контрольной."
   ]
  },
  {
   "cell_type": "markdown",
   "metadata": {},
   "source": [
    "Теперь посмотрим как новый алгоритм повлиял на конверсию в покупку, то есть на долю пользователей, совершивших покупку"
   ]
  },
  {
   "cell_type": "markdown",
   "metadata": {},
   "source": [
    "Для начала сделаем дополнительную колонку, в которой определим, совершил ли пользователь покупку. True - была покупка, False - не было покупки"
   ]
  },
  {
   "cell_type": "code",
   "execution_count": 43,
   "metadata": {},
   "outputs": [],
   "source": [
    "df['bought'] = df['rev'].notna()"
   ]
  },
  {
   "cell_type": "markdown",
   "metadata": {},
   "source": [
    "Мы хотим посмотреть на состав наших пользователей по группам и количеству покупок. На основе наших данных мы можем построить следующую таблицу:"
   ]
  },
  {
   "cell_type": "code",
   "execution_count": 44,
   "metadata": {},
   "outputs": [],
   "source": [
    "df2 = df.groupby(['grp', 'bought'], as_index=False).count().pivot_table(columns='bought', index = 'grp', values = 'student_id')"
   ]
  },
  {
   "cell_type": "code",
   "execution_count": 45,
   "metadata": {},
   "outputs": [
    {
     "data": {
      "text/html": [
       "<div>\n",
       "<style scoped>\n",
       "    .dataframe tbody tr th:only-of-type {\n",
       "        vertical-align: middle;\n",
       "    }\n",
       "\n",
       "    .dataframe tbody tr th {\n",
       "        vertical-align: top;\n",
       "    }\n",
       "\n",
       "    .dataframe thead th {\n",
       "        text-align: right;\n",
       "    }\n",
       "</style>\n",
       "<table border=\"1\" class=\"dataframe\">\n",
       "  <thead>\n",
       "    <tr style=\"text-align: right;\">\n",
       "      <th>bought</th>\n",
       "      <th>False</th>\n",
       "      <th>True</th>\n",
       "    </tr>\n",
       "    <tr>\n",
       "      <th>grp</th>\n",
       "      <th></th>\n",
       "      <th></th>\n",
       "    </tr>\n",
       "  </thead>\n",
       "  <tbody>\n",
       "    <tr>\n",
       "      <th>A</th>\n",
       "      <td>1460</td>\n",
       "      <td>78</td>\n",
       "    </tr>\n",
       "    <tr>\n",
       "      <th>B</th>\n",
       "      <td>6489</td>\n",
       "      <td>314</td>\n",
       "    </tr>\n",
       "  </tbody>\n",
       "</table>\n",
       "</div>"
      ],
      "text/plain": [
       "bought  False  True \n",
       "grp                 \n",
       "A        1460     78\n",
       "B        6489    314"
      ]
     },
     "execution_count": 45,
     "metadata": {},
     "output_type": "execute_result"
    }
   ],
   "source": [
    "df2"
   ]
  },
  {
   "cell_type": "markdown",
   "metadata": {},
   "source": [
    "Проанализируем таблицу. Пусть мы хотим проверить, зависит ли количество покупок от группы (контрольная или экспериментальня). Наша гипотеза H0: распределение не зависит от группы. Используем хи-квадрат.\n",
    "На выходе получаем\n",
    "1. Значение Хи-статистики\n",
    "2. p-value\n",
    "3. Количество степеней свободы\n",
    "4. Ожидаемые значения величин как если бы нулевая гипотеза была верна"
   ]
  },
  {
   "cell_type": "code",
   "execution_count": 46,
   "metadata": {},
   "outputs": [],
   "source": [
    "chi, p, dof, exp = chi2_contingency(df2)"
   ]
  },
  {
   "cell_type": "code",
   "execution_count": 47,
   "metadata": {},
   "outputs": [
    {
     "name": "stdout",
     "output_type": "stream",
     "text": [
      "p-value = 0.48625240457231045\n"
     ]
    }
   ],
   "source": [
    "print('p-value = ' + str(p))"
   ]
  },
  {
   "cell_type": "markdown",
   "metadata": {},
   "source": [
    "Вывод: значение p_value больше 0,05, значит мы не можем отвергнуть нулевую гипотезу. И принимаем вывод, что для контрольной и экспериментальной групп распределение покупок не различается."
   ]
  },
  {
   "cell_type": "markdown",
   "metadata": {},
   "source": [
    "Таким образом, по итогам АВ теста мы можем сделать вывод о том, что в экспериментальной группе вырос средний чек, и различия статистически значимы, а значит можем запускать новую механику на всех пользователей."
   ]
  },
  {
   "cell_type": "markdown",
   "metadata": {},
   "source": [
    "# 2. SQL# "
   ]
  },
  {
   "cell_type": "markdown",
   "metadata": {},
   "source": [
    "2.1 напишем запрос, который даст информацию о количестве очень усердных студентов. NB! Под усердным студентом мы понимаем студента, который правильно решил 20 задач за текущий месяц."
   ]
  },
  {
   "cell_type": "code",
   "execution_count": 48,
   "metadata": {},
   "outputs": [],
   "source": [
    "connection_default = {'host': 'https://clickhouse.lab.karpov.courses',\n",
    "                      'database':'default',\n",
    "                      'user':'student', \n",
    "                      'password':'dpo_python_2020'\n",
    "                     }"
   ]
  },
  {
   "cell_type": "code",
   "execution_count": 49,
   "metadata": {},
   "outputs": [
    {
     "data": {
      "text/html": [
       "<div>\n",
       "<style scoped>\n",
       "    .dataframe tbody tr th:only-of-type {\n",
       "        vertical-align: middle;\n",
       "    }\n",
       "\n",
       "    .dataframe tbody tr th {\n",
       "        vertical-align: top;\n",
       "    }\n",
       "\n",
       "    .dataframe thead th {\n",
       "        text-align: right;\n",
       "    }\n",
       "</style>\n",
       "<table border=\"1\" class=\"dataframe\">\n",
       "  <thead>\n",
       "    <tr style=\"text-align: right;\">\n",
       "      <th></th>\n",
       "      <th>diligent_students</th>\n",
       "    </tr>\n",
       "  </thead>\n",
       "  <tbody>\n",
       "    <tr>\n",
       "      <th>0</th>\n",
       "      <td>136</td>\n",
       "    </tr>\n",
       "  </tbody>\n",
       "</table>\n",
       "</div>"
      ],
      "text/plain": [
       "   diligent_students\n",
       "0                136"
      ]
     },
     "execution_count": 49,
     "metadata": {},
     "output_type": "execute_result"
    }
   ],
   "source": [
    "q = '''\n",
    "    SELECT COUNT(DISTINCT(st_id)) AS diligent_students\n",
    "    FROM \n",
    "        (SELECT st_id, SUM(correct)\n",
    "        FROM peas\n",
    "        GROUP BY st_id\n",
    "        HAVING SUM(correct)>=20)\n",
    "    '''\n",
    "diligent_students = ph.read_clickhouse(query=q, connection=connection_default)\n",
    "diligent_students"
   ]
  },
  {
   "cell_type": "markdown",
   "metadata": {},
   "source": [
    "2.2 Оптимизация воронки. В одном запросе выгрузим следующую информацию о группах пользователей:\n",
    "\n",
    "ARPU \n",
    "\n",
    "\n",
    "ARPAU \n",
    "\n",
    "\n",
    "CR в покупку \n",
    "\n",
    "\n",
    "СR активного пользователя в покупку \n",
    "\n",
    "\n",
    "CR пользователя из активности по математике (subject = ’math’) в покупку курса по математике"
   ]
  },
  {
   "cell_type": "code",
   "execution_count": 50,
   "metadata": {},
   "outputs": [
    {
     "data": {
      "text/html": [
       "<div>\n",
       "<style scoped>\n",
       "    .dataframe tbody tr th:only-of-type {\n",
       "        vertical-align: middle;\n",
       "    }\n",
       "\n",
       "    .dataframe tbody tr th {\n",
       "        vertical-align: top;\n",
       "    }\n",
       "\n",
       "    .dataframe thead th {\n",
       "        text-align: right;\n",
       "    }\n",
       "</style>\n",
       "<table border=\"1\" class=\"dataframe\">\n",
       "  <thead>\n",
       "    <tr style=\"text-align: right;\">\n",
       "      <th></th>\n",
       "      <th>ARPU</th>\n",
       "      <th>ARPAU</th>\n",
       "      <th>CR</th>\n",
       "      <th>CR_activ</th>\n",
       "      <th>CR_activ_math</th>\n",
       "      <th>test_grp</th>\n",
       "    </tr>\n",
       "  </thead>\n",
       "  <tbody>\n",
       "    <tr>\n",
       "      <th>0</th>\n",
       "      <td>8394.0</td>\n",
       "      <td>92333.0</td>\n",
       "      <td>0.09</td>\n",
       "      <td>0.12</td>\n",
       "      <td>0.31</td>\n",
       "      <td>control</td>\n",
       "    </tr>\n",
       "    <tr>\n",
       "      <th>1</th>\n",
       "      <td>22832.0</td>\n",
       "      <td>108833.0</td>\n",
       "      <td>0.21</td>\n",
       "      <td>0.31</td>\n",
       "      <td>0.71</td>\n",
       "      <td>pilot</td>\n",
       "    </tr>\n",
       "  </tbody>\n",
       "</table>\n",
       "</div>"
      ],
      "text/plain": [
       "      ARPU     ARPAU    CR  CR_activ  CR_activ_math test_grp\n",
       "0   8394.0   92333.0  0.09      0.12           0.31  control\n",
       "1  22832.0  108833.0  0.21      0.31           0.71    pilot"
      ]
     },
     "execution_count": 50,
     "metadata": {},
     "output_type": "execute_result"
    }
   ],
   "source": [
    "q = '''\n",
    "SELECT round(sum(money_total)/count(distinct st_id)) AS ARPU,\n",
    "\t\tround(sum(money_total)/count(distinct (CASE WHEN money_total > 0 THEN st_id ELSE Null END))) AS ARPAU,\n",
    "\t   round(count(distinct (CASE WHEN money_total > 0 THEN st_id ELSE Null END)) / count(distinct st_id),2) AS CR,\n",
    "\t   round(count(distinct (CASE WHEN money_total > 0 THEN st_id ELSE Null END)) / count(distinct (CASE WHEN peases > 10 THEN st_id ELSE Null END)),2) AS CR_activ,\n",
    "\t   round(count(distinct (CASE WHEN money_total > 0 THEN st_id ELSE Null END)) / count(distinct (CASE WHEN peases_math >= 2 THEN st_id ELSE Null END)),2) AS CR_activ_math,\n",
    "\t\ttest_grp AS test_grp\n",
    "FROM\n",
    "\t(\n",
    "\tSELECT \n",
    "\t\tst_id AS st_id,\n",
    "\t\tB.test_grp,\n",
    "\t\tSUM(correct) AS peases,\n",
    "\t\tSUM(CASE WHEN subject = 'Math' THEN correct ELSE 0 END) AS peases_math\n",
    "\tFROM peas AS A\n",
    "\tJOIN studs AS B\n",
    "\tON A.st_id = B.st_id \n",
    "\tGROUP BY st_id, test_grp\n",
    "\t)AS l\n",
    "\tLEFT JOIN \n",
    "\t(\n",
    "\tSELECT \n",
    "\t\tst_id, \n",
    "\t\tSUM(money) AS money_total, \n",
    "\t\tSUM(CASE WHEN subject = 'Math' THEN money ELSE 0 END) AS money_math\n",
    "\tFROM final_project_check \n",
    "\tGROUP BY st_id\n",
    "\t) AS r\n",
    "\tON l.st_id = r.st_id\n",
    "GROUP BY test_grp\n",
    "    '''\n",
    "all_metrics = ph.read_clickhouse(query=q, connection=connection_default)\n",
    "all_metrics"
   ]
  },
  {
   "cell_type": "markdown",
   "metadata": {},
   "source": [
    "# 3. Python"
   ]
  },
  {
   "cell_type": "markdown",
   "metadata": {},
   "source": [
    "1. Реализуем функцию, которая будет автоматически подгружать информацию из дополнительного файла groups_add.csv (заголовки могут отличаться) и на основании дополнительных параметров пересчитывать метрики."
   ]
  },
  {
   "cell_type": "code",
   "execution_count": 56,
   "metadata": {},
   "outputs": [],
   "source": [
    "path = 'https://disk.yandex.ru/d/5Kxrz02m3IBUwQ'"
   ]
  },
  {
   "cell_type": "code",
   "execution_count": 57,
   "metadata": {},
   "outputs": [],
   "source": [
    "def recalculate(path):\n",
    "    base_url = 'https://cloud-api.yandex.net/v1/disk/public/resources/download?'\n",
    "    final_url = base_url + urlencode(dict(public_key=path_to_group_add))\n",
    "    response = requests.get(final_url)\n",
    "    download_url = response.json()['href']\n",
    "    group_add = pd.read_csv(download_url)\n",
    "    groups_all = pd.concat([groups, group_add], ignore_index=True).rename(columns={'id': 'student_id'})\n",
    "    active_groups = groups_all.merge(active_studs, how = 'inner', on = 'student_id')\n",
    "    df = active_groups.merge(checks, on = 'student_id', how = 'left')\n",
    "    average_check_A = df.dropna().query(\"grp == 'A'\").groupby('student_id').agg({'rev': 'sum'}).rev.mean().round(2)\n",
    "    average_check_B = df.dropna().query(\"grp == 'B'\").groupby('student_id').agg({'rev': 'sum'}).rev.mean().round(2)\n",
    "    df['bought'] = df['rev'].notna()\n",
    "    df2 = df.groupby(['grp', 'bought'], as_index=False).count().pivot_table(columns='bought', index = 'grp', values = 'student_id')\n",
    "    conv_A = (df2.query(\"grp=='A'\")[True] / df2.query(\"grp=='A'\")[False]).round(3).to_list()[0]\n",
    "    conv_B = (df2.query(\"grp=='B'\")[True] / df2.query(\"grp=='B'\")[False]).round(3).to_list()[0]\n",
    "    d = {'average_check': [average_check_A, average_check_B], 'CR': pd.Series([conv_A, conv_B], index=['control', 'expetimental'])}\n",
    "    metrics = pd.DataFrame(data=d)\n",
    "    print(metrics)\n"
   ]
  },
  {
   "cell_type": "code",
   "execution_count": 58,
   "metadata": {},
   "outputs": [
    {
     "name": "stdout",
     "output_type": "stream",
     "text": [
      "              average_check     CR\n",
      "control              933.59  0.053\n",
      "expetimental        1257.88  0.048\n"
     ]
    }
   ],
   "source": [
    "recalculate(path)"
   ]
  },
  {
   "cell_type": "markdown",
   "metadata": {},
   "source": [
    "2. Реализуем функцию, которая будет строить графики по получаемым метрикам."
   ]
  },
  {
   "cell_type": "code",
   "execution_count": 59,
   "metadata": {},
   "outputs": [],
   "source": [
    "def plot(path):\n",
    "    base_url = 'https://cloud-api.yandex.net/v1/disk/public/resources/download?'\n",
    "    final_url = base_url + urlencode(dict(public_key=path_to_group_add))\n",
    "    response = requests.get(final_url)\n",
    "    download_url = response.json()['href']\n",
    "    group_add = pd.read_csv(download_url)\n",
    "    groups_all = pd.concat([groups, group_add], ignore_index=True).rename(columns={'id': 'student_id'})\n",
    "    active_groups = groups_all.merge(active_studs, how = 'inner', on = 'student_id')\n",
    "    df = active_groups.merge(checks, on = 'student_id', how = 'left')\n",
    "    average_check_A = df.dropna().query(\"grp == 'A'\").groupby('student_id').agg({'rev': 'sum'}).rev.mean().round(2)\n",
    "    average_check_B = df.dropna().query(\"grp == 'B'\").groupby('student_id').agg({'rev': 'sum'}).rev.mean().round(2)\n",
    "    df['bought'] = df['rev'].notna()\n",
    "    df2 = df.groupby(['grp', 'bought'], as_index=False).count().pivot_table(columns='bought', index = 'grp', values = 'student_id')\n",
    "    conv_A = (df2.query(\"grp=='A'\")[True] / df2.query(\"grp=='A'\")[False]).round(3).to_list()[0]\n",
    "    conv_B = (df2.query(\"grp=='B'\")[True] / df2.query(\"grp=='B'\")[False]).round(3).to_list()[0]\n",
    "    d = {'average_check': [average_check_A, average_check_B], 'CR': pd.Series([conv_A, conv_B], index=['control', 'expetimental'])}\n",
    "    metrics = pd.DataFrame(data=d).reset_index().rename(columns={'index':'group'})\n",
    "    x = np.array(metrics.group.to_list())\n",
    "    y = np.array(metrics.CR.to_list())\n",
    "    plt.subplot(1, 2, 1)\n",
    "    plt.bar(x,y)\n",
    "    plt.title(\"CR\")\n",
    "    x = np.array(metrics.group.to_list())\n",
    "    y = np.array(metrics.average_check.to_list())\n",
    "    plt.subplot(1, 2, 2)\n",
    "    plt.bar(x,y)\n",
    "    plt.title(\"Average check\")\n",
    "    plt.show()"
   ]
  },
  {
   "cell_type": "code",
   "execution_count": 60,
   "metadata": {},
   "outputs": [
    {
     "data": {
      "image/png": "[encoded data removed]",
      "text/plain": [
       "<Figure size 432x288 with 2 Axes>"
      ]
     },
     "metadata": {
      "needs_background": "light"
     },
     "output_type": "display_data"
    }
   ],
   "source": [
    "plot(path)"
   ]
  },
  {
   "cell_type": "code",
   "execution_count": null,
   "metadata": {},
   "outputs": [],
   "source": []
  }
 ],
 "metadata": {
  "kernelspec": {
   "display_name": "Python 3",
   "language": "python",
   "name": "python3"
  },
  "language_info": {
   "codemirror_mode": {
    "name": "ipython",
    "version": 3
   },
   "file_extension": ".py",
   "mimetype": "text/x-python",
   "name": "python",
   "nbconvert_exporter": "python",
   "pygments_lexer": "ipython3",
   "version": "3.7.3"
  }
 },
 "nbformat": 4,
 "nbformat_minor": 4
}
